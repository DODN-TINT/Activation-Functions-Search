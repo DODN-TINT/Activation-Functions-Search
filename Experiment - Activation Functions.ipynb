{
 "cells": [
  {
   "cell_type": "markdown",
   "metadata": {},
   "source": [
    "# Example code for search of best activation function\n",
    "### [----->ML From Scratch](https://mlfromscratch.com)\n",
    "We are going to run a small experiment, using mostly Keras and Scikit-Learn. The goal is to take the MNIST dataset and draw a graph of activations functions with loss over time.\n",
    "\n",
    "The outline for this notebook is as follows:\n",
    "1. [Importing packages and small tweaks to MNIST dataset](#1.-Importing-and-preprocessing)\n",
    "2. [Readying functions, hyperparameters etc.](#2.-Readying-functions-and-hyperparameters)\n",
    "3. [Fitting data](#3.-Fitting-the-data-with-multiple-activation-functions)\n",
    "4. [Plotting](#4.-Graph-the-results)"
   ]
  },
  {
   "cell_type": "markdown",
   "metadata": {},
   "source": [
    "# 1. Importing and preprocessing"
   ]
  },
  {
   "cell_type": "code",
   "execution_count": 67,
   "metadata": {},
   "outputs": [],
   "source": [
    "# IMPORTS\n",
    "import tensorflow as tf\n",
    "import numpy as np\n",
    "import matplotlib.pyplot as plt\n",
    "from keras.datasets import mnist\n",
    "from keras.utils.np_utils import to_categorical\n",
    "from keras.models import Sequential\n",
    "from keras.layers import Dense, Dropout, Flatten, Conv2D, MaxPooling2D, Activation, LeakyReLU\n",
    "from keras.layers.noise import AlphaDropout\n",
    "from keras.utils.generic_utils import get_custom_objects\n",
    "from keras import backend as K\n",
    "\n",
    "# LOAD DATA\n",
    "(x_train, y_train), (x_test, y_test) = mnist.load_data()\n",
    "\n",
    "# PREPROCESSING\n",
    "def preprocess_mnist(x_train, y_train, x_test, y_test):\n",
    "    # Normalizing all images of 28x28 pixels\n",
    "    x_train = x_train.reshape(x_train.shape[0], 28, 28, 1)\n",
    "    x_test = x_test.reshape(x_test.shape[0], 28, 28, 1)\n",
    "    input_shape = (28, 28, 1)\n",
    "    \n",
    "    # Float values for division\n",
    "    x_train = x_train.astype('float32')\n",
    "    x_test = x_test.astype('float32')\n",
    "    \n",
    "    # Normalizing the RGB codes by dividing it to the max RGB value\n",
    "    x_train /= 255\n",
    "    x_test /= 255\n",
    "    \n",
    "    # Categorical y values\n",
    "    y_train = to_categorical(y_train)\n",
    "    y_test= to_categorical(y_test)\n",
    "    \n",
    "    return x_train, y_train, x_test, y_test, input_shape\n",
    "    \n",
    "x_train, y_train, x_test, y_test, input_shape = preprocess_mnist(x_train, y_train, x_test, y_test)"
   ]
  },
  {
   "cell_type": "markdown",
   "metadata": {},
   "source": [
    "# 2. Readying functions and hyperparameters"
   ]
  },
  {
   "cell_type": "code",
   "execution_count": 71,
   "metadata": {},
   "outputs": [
    {
     "name": "stderr",
     "output_type": "stream",
     "text": [
      "/anaconda3/envs/nestedcv_env/lib/python3.7/site-packages/keras/activations.py:211: UserWarning: Do not pass a layer instance (such as LeakyReLU) as the activation argument of another layer. Instead, advanced activation layers should be used just like any other layer in a model.\n",
      "  identifier=identifier.__class__.__name__))\n"
     ]
    }
   ],
   "source": [
    "# Readying neural network model\n",
    "def build_cnn(activation,\n",
    "              dropout_rate,\n",
    "              optimizer):\n",
    "    model = Sequential()\n",
    "    \n",
    "    if(activation == 'selu'):\n",
    "        model.add(Conv2D(32, kernel_size=(3, 3),\n",
    "                  activation=activation,\n",
    "                  input_shape=input_shape,\n",
    "                  kernel_initializer='lecun_normal'))\n",
    "        model.add(Conv2D(64, (3, 3), activation=activation, \n",
    "                         kernel_initializer='lecun_normal'))\n",
    "        model.add(MaxPooling2D(pool_size=(2, 2)))\n",
    "        model.add(AlphaDropout(0.25))\n",
    "        model.add(Flatten())\n",
    "        model.add(Dense(128, activation=activation, \n",
    "                        kernel_initializer='lecun_normal'))\n",
    "        model.add(AlphaDropout(0.5))\n",
    "        model.add(Dense(10, activation='softmax'))\n",
    "    else:\n",
    "        model.add(Conv2D(32, kernel_size=(3, 3),\n",
    "                  activation=activation,\n",
    "                  input_shape=input_shape))\n",
    "        model.add(Conv2D(64, (3, 3), activation=activation))\n",
    "        model.add(MaxPooling2D(pool_size=(2, 2)))\n",
    "        model.add(Dropout(0.25))\n",
    "        model.add(Flatten())\n",
    "        model.add(Dense(128, activation=activation))\n",
    "        model.add(Dropout(0.5))\n",
    "        model.add(Dense(10, activation='softmax'))\n",
    "    \n",
    "    model.compile(\n",
    "        loss='binary_crossentropy', \n",
    "        optimizer=optimizer, \n",
    "        metrics=['accuracy']\n",
    "    )\n",
    "    \n",
    "    return model\n",
    "\n",
    "# Add the GELU function to Keras\n",
    "def gelu(x):\n",
    "    return 0.5 * x * (1 + tf.tanh(tf.sqrt(2 / np.pi) * (x + 0.044715 * tf.pow(x, 3))))\n",
    "get_custom_objects().update({'gelu': Activation(gelu)})\n",
    "\n",
    "# Add leaky-relu so we can use it as a string\n",
    "get_custom_objects().update({'leaky-relu': Activation(LeakyReLU(alpha=0.2))})\n",
    "\n",
    "act_func = ['sigmoid', 'relu', 'elu', 'leaky-relu', 'selu', 'gelu']"
   ]
  },
  {
   "cell_type": "markdown",
   "metadata": {},
   "source": [
    "# 3. Fitting the data with multiple activation functions"
   ]
  },
  {
   "cell_type": "code",
   "execution_count": 72,
   "metadata": {},
   "outputs": [
    {
     "name": "stdout",
     "output_type": "stream",
     "text": [
      "Training with -->sigmoid<-- activation function\n",
      "\n",
      "Train on 60000 samples, validate on 10000 samples\n",
      "Epoch 1/1\n",
      "60000/60000 [==============================] - 80s 1ms/step - loss: 0.2480 - acc: 0.9202 - val_loss: 0.0852 - val_acc: 0.9749\n",
      "Training with -->relu<-- activation function\n",
      "\n",
      "Train on 60000 samples, validate on 10000 samples\n",
      "Epoch 1/1\n",
      "60000/60000 [==============================] - 56s 934us/step - loss: 0.0428 - acc: 0.9853 - val_loss: 0.0097 - val_acc: 0.9966\n",
      "Training with -->elu<-- activation function\n",
      "\n",
      "Train on 60000 samples, validate on 10000 samples\n",
      "Epoch 1/1\n",
      "60000/60000 [==============================] - 96s 2ms/step - loss: 0.0376 - acc: 0.9871 - val_loss: 0.0136 - val_acc: 0.9953\n",
      "Training with -->leaky-relu<-- activation function\n",
      "\n",
      "Train on 60000 samples, validate on 10000 samples\n",
      "Epoch 1/1\n",
      "60000/60000 [==============================] - 57s 951us/step - loss: 0.0350 - acc: 0.9881 - val_loss: 0.0090 - val_acc: 0.9968\n",
      "Training with -->selu<-- activation function\n",
      "\n",
      "Train on 60000 samples, validate on 10000 samples\n",
      "Epoch 1/1\n",
      "60000/60000 [==============================] - 138s 2ms/step - loss: 0.0493 - acc: 0.9831 - val_loss: 0.0246 - val_acc: 0.9956\n",
      "Training with -->gelu<-- activation function\n",
      "\n",
      "Train on 60000 samples, validate on 10000 samples\n",
      "Epoch 1/1\n",
      "60000/60000 [==============================] - 154s 3ms/step - loss: 0.0397 - acc: 0.9866 - val_loss: 0.0094 - val_acc: 0.9967\n",
      "[<keras.callbacks.History object at 0x1a4f9df6a0>, <keras.callbacks.History object at 0x1a487a3ba8>, <keras.callbacks.History object at 0x1a3f0069e8>, <keras.callbacks.History object at 0x1a4ceb8748>, <keras.callbacks.History object at 0x1a4d9c03c8>, <keras.callbacks.History object at 0x1a4ecd8860>]\n"
     ]
    }
   ],
   "source": [
    "result = []\n",
    "\n",
    "for activation in act_func:\n",
    "    print('Training with -->{0}<-- activation function\\n'.format(activation))\n",
    "    \n",
    "    model = build_cnn(activation=activation,\n",
    "                      dropout_rate=0.2,\n",
    "                      optimizer='Adam')\n",
    "    \n",
    "    history = model.fit(x_train, y_train,\n",
    "          validation_split=0.33,\n",
    "          batch_size=128, # 128 is faster, but less accurate. 16/32 recommended\n",
    "          epochs=200,\n",
    "          verbose=1,\n",
    "          validation_data=(x_test, y_test))\n",
    "    \n",
    "    result.append(history)\n",
    "    \n",
    "    K.clear_session()\n",
    "    del model\n",
    "\n",
    "print(result)"
   ]
  },
  {
   "cell_type": "markdown",
   "metadata": {},
   "source": [
    "# 4. Graph the results"
   ]
  },
  {
   "cell_type": "code",
   "execution_count": 85,
   "metadata": {},
   "outputs": [
    {
     "data": {
      "image/png": "[encoded data removed]",
      "text/plain": [
       "<Figure size 720x720 with 1 Axes>"
      ]
     },
     "metadata": {
      "needs_background": "light"
     },
     "output_type": "display_data"
    },
    {
     "data": {
      "image/png": "[encoded data removed]",
      "text/plain": [
       "<Figure size 720x720 with 1 Axes>"
      ]
     },
     "metadata": {
      "needs_background": "light"
     },
     "output_type": "display_data"
    }
   ],
   "source": [
    "def plot_act_func_results(results, activation_functions = [], save_to_local = False):\n",
    "    plt.figure(figsize=(10,10))\n",
    "    \n",
    "    # Plot validation accuracy values\n",
    "    for act_func in results:\n",
    "        plt.plot(act_func.history['val_acc'])\n",
    "        \n",
    "    plt.title('Model accuracy')\n",
    "    plt.ylabel('Test Accuracy')\n",
    "    plt.xlabel('Epoch')\n",
    "    plt.legend(activation_functions, loc='upper left')\n",
    "    plt.show()\n",
    "\n",
    "    # Plot validation loss values\n",
    "    plt.figure(figsize=(10,10))\n",
    "    \n",
    "    for act_func in results:\n",
    "        plt.plot(act_func.history['val_loss'])\n",
    "        \n",
    "    plt.title('Model loss')\n",
    "    plt.ylabel('Test Loss')\n",
    "    plt.xlabel('Epoch')\n",
    "    plt.legend(activation_functions, loc='upper left')\n",
    "    plt.show()\n",
    "\n",
    "plot_act_func_results(result, act_func)"
   ]
  },
  {
   "cell_type": "code",
   "execution_count": null,
   "metadata": {},
   "outputs": [],
   "source": []
  }
 ],
 "metadata": {
  "kernelspec": {
   "display_name": "Python 3",
   "language": "python",
   "name": "python3"
  },
  "language_info": {
   "codemirror_mode": {
    "name": "ipython",
    "version": 3
   },
   "file_extension": ".py",
   "mimetype": "text/x-python",
   "name": "python",
   "nbconvert_exporter": "python",
   "pygments_lexer": "ipython3",
   "version": "3.7.3"
  }
 },
 "nbformat": 4,
 "nbformat_minor": 2
}
